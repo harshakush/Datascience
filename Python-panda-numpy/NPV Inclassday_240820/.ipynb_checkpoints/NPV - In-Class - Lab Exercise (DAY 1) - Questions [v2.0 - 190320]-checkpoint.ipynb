{
 "cells": [
  {
   "cell_type": "markdown",
   "metadata": {
    "colab_type": "text",
    "id": "GuFb-u9SbehT"
   },
   "source": [
    "<table align=\"left\" width=100%>\n",
    "    <tr>\n",
    "        <td width=\"10%\">\n",
    "            <img src=\"in_class.png\">\n",
    "        </td>\n",
    "        <td>\n",
    "            <div align=\"center\">\n",
    "                <font color=\"#21618C\" size=8px>\n",
    "                  <b> Inclass - Lab <br> (Day 1) </b>\n",
    "                </font>\n",
    "            </div>\n",
    "        </td>\n",
    "    </tr>\n",
    "</table>"
   ]
  },
  {
   "cell_type": "markdown",
   "metadata": {
    "colab_type": "text",
    "id": "jZEkUUZDbehV"
   },
   "source": [
    "##  Table of Content\n",
    "\n",
    "1. **[One Dimensional Array](#1D)**\n",
    "2. **[Two Dimensional Array](#2D)**\n",
    "3. **[Stacking](#Stacking)**\n",
    "4. **[Splitting](#Splitting)**\n",
    "5. **[For Loop](#loop)**"
   ]
  },
  {
   "cell_type": "markdown",
   "metadata": {
    "colab_type": "text",
    "id": "MHPttB0tbehW"
   },
   "source": [
    "**Import the NumPy library before solving the exercises**"
   ]
  },
  {
   "cell_type": "markdown",
   "metadata": {
    "colab_type": "text",
    "id": "L8TzYuGWbehW"
   },
   "source": [
    "### Let's begin with some hands-on practice exercises"
   ]
  },
  {
   "cell_type": "markdown",
   "metadata": {
    "colab_type": "text",
    "id": "xfum17oYbehX"
   },
   "source": [
    "<a id=\"1D\"> </a>\n",
    "## 1. One Dimensional Array"
   ]
  },
  {
   "cell_type": "markdown",
   "metadata": {
    "colab_type": "text",
    "id": "depCyxbdbehY"
   },
   "source": [
    "<table align=\"left\">\n",
    "    <tr>\n",
    "        <td width=\"6%\">\n",
    "            <img src=\"question_icon.png\">\n",
    "        </td>\n",
    "        <td>\n",
    "            <div align=\"left\", style=\"font-size:120%\">\n",
    "                <font color=\"#21618C\">\n",
    "                    <b>1. Write a NumPy program to convert a list of numeric values into a one-dimensional NumPy array</b>\n",
    "                </font>\n",
    "            </div>\n",
    "        </td>\n",
    "    </tr>\n",
    "</table>"
   ]
  },
  {
   "cell_type": "markdown",
   "metadata": {
    "colab_type": "text",
    "id": "id8gb5YXbehY"
   },
   "source": [
    "**Use the list given below: (or create your own list)**<br>\n",
    "\n",
    "    list_temperature = [3.04, 1.65, 5.76, 1.66, 1.54, 4.69, 2.68]"
   ]
  },
  {
   "cell_type": "code",
   "execution_count": null,
   "metadata": {
    "colab": {},
    "colab_type": "code",
    "id": "E1Qm9gbsbehZ"
   },
   "outputs": [],
   "source": [
    "import numpy as np\n",
    "list_temperature = [3.04, 1.65, 5.76, 1.66, 1.54, 4.69, 2.68]\n",
    "print(\"Original List:\",list_temperature)\n",
    "a = np.array(list_temperature)\n",
    "print(\"One-dimensional NumPy array: \",a)\n"
   ]
  },
  {
   "cell_type": "markdown",
   "metadata": {
    "colab_type": "text",
    "id": "dzppBkKlbehd"
   },
   "source": [
    "<table align=\"left\">\n",
    "    <tr>\n",
    "        <td width=\"6%\">\n",
    "            <img src=\"question_icon.png\">\n",
    "        </td>\n",
    "        <td>\n",
    "            <div align=\"left\", style=\"font-size:120%\">\n",
    "                <font color=\"#21618C\">\n",
    "                    <b>2. Create a 1D array of weights of 10 students and retrieve all the weights greater than 68</b>\n",
    "                </font>\n",
    "            </div>\n",
    "        </td>\n",
    "    </tr>\n",
    "</table>"
   ]
  },
  {
   "cell_type": "markdown",
   "metadata": {
    "colab_type": "text",
    "id": "67NOJtMfbehd"
   },
   "source": [
    "**Use the weights given below: (or create your own list)**\n",
    "\n",
    "    weights = [74.2, 85, 74, 67.9, 52, 70.5, 86, 51.8, 64, 82]"
   ]
  },
  {
   "cell_type": "code",
   "execution_count": null,
   "metadata": {
    "colab": {},
    "colab_type": "code",
    "id": "EiwNG6NQbehe"
   },
   "outputs": [],
   "source": [
    "import numpy as np\n",
    "# type your code here\n",
    "weights = [74.2, 85, 74, 67.9, 52, 70.5, 86, 51.8, 64, 82]\n",
    "a = np.array(weights)\n",
    "print(\"One-dimensional NumPy array: \",a)\n",
    "print(\"Values bigger than 68 =\", a[a>68])\n",
    "print(\"Their indices are \", np.nonzero(a > 68))"
   ]
  },
  {
   "cell_type": "markdown",
   "metadata": {
    "colab_type": "text",
    "id": "HBYsorFEbehh"
   },
   "source": [
    "<table align=\"left\">\n",
    "    <tr>\n",
    "        <td width=\"6%\">\n",
    "            <img src=\"question_icon.png\">\n",
    "        </td>\n",
    "        <td>\n",
    "            <div align=\"left\", style=\"font-size:120%\">\n",
    "                <font color=\"#21618C\">\n",
    "                    <b>3. Write a code to generate 10 random integers between 20 to 40 (Is it possible to generate same random numbers everytime? If yes, describe the function)\n",
    "                    </b>\n",
    "                </font>\n",
    "            </div>\n",
    "        </td>\n",
    "    </tr>\n",
    "</table>"
   ]
  },
  {
   "cell_type": "code",
   "execution_count": 6,
   "metadata": {
    "colab": {},
    "colab_type": "code",
    "id": "wXvPOmTabehi"
   },
   "outputs": [
    {
     "name": "stdout",
     "output_type": "stream",
     "text": [
      "[25 21 37 20 27 24 35 38 21 23]\n",
      "685\n",
      "38\n",
      "169\n",
      "875\n",
      "123\n",
      "868\n",
      "907\n",
      "176\n",
      "452\n",
      "383\n"
     ]
    }
   ],
   "source": [
    "import numpy as np\n",
    "sampl = np.random.randint(low=20, high=40, size=(10,))\n",
    "print(sampl)\n",
    "#Yes Its possible to generate the same random numbers \n",
    "#using the seed function.\n",
    "# Generated random number will be between 1 to 1000.  The below code displays as the seed is used to\n",
    "#generate the pseudo random numbers using for loop\n",
    "for i in range(10):\n",
    "    np.random.seed(i) \n",
    "    print(np.random.randint(1, 1000))  "
   ]
  },
  {
   "cell_type": "markdown",
   "metadata": {
    "colab_type": "text",
    "id": "sgJa1pNfbehk"
   },
   "source": [
    "<table align=\"left\">\n",
    "    <tr>\n",
    "        <td width=\"6%\">\n",
    "            <img src=\"question_icon.png\">\n",
    "        </td>\n",
    "        <td>\n",
    "            <div align=\"left\", style=\"font-size:120%\">\n",
    "                <font color=\"#21618C\">\n",
    "                    <b>4. Write a program to get the fifth power of the first five positive integers\n",
    "                    </b>\n",
    "                </font>\n",
    "            </div>\n",
    "        </td>\n",
    "    </tr>\n",
    "</table>"
   ]
  },
  {
   "cell_type": "code",
   "execution_count": 5,
   "metadata": {
    "colab": {},
    "colab_type": "code",
    "id": "H2B6tOvDbehl"
   },
   "outputs": [
    {
     "name": "stdout",
     "output_type": "stream",
     "text": [
      "Please enter the range : 5\n",
      "1\n",
      "32\n",
      "243\n",
      "1024\n",
      "3125\n"
     ]
    }
   ],
   "source": [
    "#Assume the first 5 positive numbers as in range 1 to 5 or we read the input from keyboard and support any range\n",
    "\n",
    "def createmagic(rangenum=5):\n",
    "    for i in range(1,rangenum+1):\n",
    "        print(i**5)\n",
    "        \n",
    "rangenum = int(input(\"Please enter the range : \"))\n",
    "createmagic(rangenum)"
   ]
  },
  {
   "cell_type": "markdown",
   "metadata": {
    "colab_type": "text",
    "id": "aQkkjqDZbeho"
   },
   "source": [
    "<table align=\"left\">\n",
    "    <tr>\n",
    "        <td width=\"6%\">\n",
    "            <img src=\"question_icon.png\">\n",
    "        </td>\n",
    "        <td>\n",
    "            <div align=\"left\", style=\"font-size:120%\">\n",
    "                <font color=\"#21618C\">\n",
    "                    <b>5. Write a program to create an array of all the odd integers from 50 to 100 \n",
    "                    </b>\n",
    "                </font>\n",
    "            </div>\n",
    "        </td>\n",
    "    </tr>\n",
    "</table>"
   ]
  },
  {
   "cell_type": "code",
   "execution_count": 7,
   "metadata": {
    "colab": {},
    "colab_type": "code",
    "id": "Qpt-pf1Cbeho"
   },
   "outputs": [
    {
     "name": "stdout",
     "output_type": "stream",
     "text": [
      "Array of all the even integers from 50 to 100\n",
      "[51 53 55 57 59 61 63 65 67 69 71 73 75 77 79 81 83 85 87 89 91 93 95 97\n",
      " 99]\n"
     ]
    }
   ],
   "source": [
    "import numpy as np\n",
    "#Arrange numbers from 50 till 101 so that we cover 100 also its an even number with step size as 2!\n",
    "#another way to do this is take inputs from user\n",
    "#check if the range min is divisible by 2, if yes add 1 to make it odd.\n",
    "#once the min is converted to odd, the step addition of two makes it a odd series\n",
    "\n",
    "array=np.arange(51,100,2)\n",
    "print(\"Array of all the even integers from 50 to 100\")\n",
    "print(array) "
   ]
  },
  {
   "cell_type": "markdown",
   "metadata": {
    "colab_type": "text",
    "id": "q5Xzt47hbehr"
   },
   "source": [
    "<table align=\"left\">\n",
    "    <tr>\n",
    "        <td width=\"6%\">\n",
    "            <img src=\"question_icon.png\">\n",
    "        </td>\n",
    "        <td>\n",
    "            <div align=\"left\", style=\"font-size:120%\">\n",
    "                <font color=\"#21618C\">\n",
    "                    <b>6. Write a program to calculate the sum of each column </b>\n",
    "                </font>\n",
    "            </div>\n",
    "        </td>\n",
    "    </tr>\n",
    "</table>"
   ]
  },
  {
   "cell_type": "markdown",
   "metadata": {
    "colab_type": "text",
    "id": "ytP3e0lubehs"
   },
   "source": [
    "**Use the array given below: (or create your own array)**\n",
    "\n",
    "    A = [[1, 4, 8], [5, 7, 3], [9, 14, 2]]"
   ]
  },
  {
   "cell_type": "code",
   "execution_count": 8,
   "metadata": {
    "colab": {},
    "colab_type": "code",
    "id": "OhKSiWJFbehs"
   },
   "outputs": [
    {
     "name": "stdout",
     "output_type": "stream",
     "text": [
      "[[1, 4, 8], [5, 7, 3], [9, 14, 2]]\n",
      "[[ 1  4  8]\n",
      " [ 5  7  3]\n",
      " [ 9 14  2]]\n",
      "[15 25 13]\n"
     ]
    }
   ],
   "source": [
    "import numpy as np\n",
    "A = [[1, 4, 8], [5, 7, 3], [9, 14, 2]]\n",
    "#sums = A.sum(axis=1)\n",
    "print(A)\n",
    "#A is not matrix, we need to create one before we do any operation.\n",
    "a = np.array(A)\n",
    "print(a)\n",
    "print(a.sum(axis=0))"
   ]
  },
  {
   "cell_type": "markdown",
   "metadata": {
    "colab_type": "text",
    "id": "_Ll-br2qbehv"
   },
   "source": [
    "<table align=\"left\">\n",
    "    <tr>\n",
    "        <td width=\"6%\">\n",
    "            <img src=\"question_icon.png\">\n",
    "        </td>\n",
    "        <td>\n",
    "            <div align=\"left\", style=\"font-size:120%\">\n",
    "                <font color=\"#21618C\">\n",
    "                    <b>7. Write a code to get the element-wise remainder of an array after division by 8 \n",
    "                    </b>\n",
    "                </font>\n",
    "            </div>\n",
    "        </td>\n",
    "    </tr>\n",
    "</table>"
   ]
  },
  {
   "cell_type": "markdown",
   "metadata": {
    "colab_type": "text",
    "id": "Rxa4HT3Obehv"
   },
   "source": [
    "**Use the list given below:**<br>\n",
    "    \n",
    "    num = [42, 87, 90, 14, 32, 75, 61, 80, 92]"
   ]
  },
  {
   "cell_type": "code",
   "execution_count": 9,
   "metadata": {
    "colab": {},
    "colab_type": "code",
    "id": "GWQxTmdMbehw"
   },
   "outputs": [
    {
     "name": "stdout",
     "output_type": "stream",
     "text": [
      "Output remainder array:  [2 7 2 6 0 3 5 0 4]\n"
     ]
    }
   ],
   "source": [
    "import numpy as np\n",
    "\n",
    "num = [42, 87, 90, 14, 32, 75, 61, 80, 92]\n",
    "#Just one function call of remainder on the array and 8 is enough to get values\n",
    "out_arr = np.remainder(num, 8)  \n",
    "print (\"Output remainder array: \", out_arr) "
   ]
  },
  {
   "cell_type": "markdown",
   "metadata": {
    "colab_type": "text",
    "id": "cCPkpHF6behy"
   },
   "source": [
    "<a id=\"2D\"> </a>\n",
    "## 2. Two Dimensional Array"
   ]
  },
  {
   "cell_type": "markdown",
   "metadata": {
    "colab_type": "text",
    "id": "mdnO5naVbehy"
   },
   "source": [
    "<table align=\"left\">\n",
    "    <tr>\n",
    "        <td width=\"6%\">\n",
    "            <img src=\"question_icon.png\">\n",
    "        </td>\n",
    "        <td>\n",
    "            <div align=\"left\", style=\"font-size:120%\">\n",
    "                <font color=\"#21618C\">\n",
    "                    <b>8. Create a 2D numpy array from a 1D array of 20 elements of your choice. Further, subset the first 5 elements from the second element of a resulting 2D array \n",
    "                    </b>\n",
    "                </font>\n",
    "            </div>\n",
    "        </td>\n",
    "    </tr>\n",
    "</table>"
   ]
  },
  {
   "cell_type": "code",
   "execution_count": 10,
   "metadata": {
    "colab": {},
    "colab_type": "code",
    "id": "PJi7HXVSbehz"
   },
   "outputs": [
    {
     "name": "stdout",
     "output_type": "stream",
     "text": [
      "[[ 0  1  2  3  4  5  6  7  8  9]\n",
      " [10 11 12 13 14 15 16 17 18 19]]\n",
      "[10 11 12 13 14]\n"
     ]
    }
   ],
   "source": [
    "# type your code here\n",
    "arr = np.array([0, 1, 2, 3, 4, 5, 6, 7, 8, 9,10,11,12,13,14,15,16,17,18,19])\n",
    "# Convert 1D array to a 2D numpy array of 2 rows and 2 columns\n",
    "arr_2d = np.reshape(arr, (2, 10))\n",
    "print(arr_2d)\n",
    "\n",
    "#subset the values based on the column values. \n",
    "#1st row\n",
    "#and columns after the second element in the array which is 1\n",
    "subset = arr_2d[1][0:5]\n",
    "print(subset)"
   ]
  },
  {
   "cell_type": "markdown",
   "metadata": {
    "colab_type": "text",
    "id": "NGZISX4wbeh4"
   },
   "source": [
    "<table align=\"left\">\n",
    "    <tr>\n",
    "        <td width=\"6%\">\n",
    "            <img src=\"question_icon.png\">\n",
    "        </td>\n",
    "        <td>\n",
    "            <div align=\"left\", style=\"font-size:120%\">\n",
    "                <font color=\"#21618C\">\n",
    "                    <b>9. Write a program to find common values between two arrays \n",
    "                    </b>\n",
    "                </font>\n",
    "            </div>\n",
    "        </td>\n",
    "    </tr>\n",
    "</table>"
   ]
  },
  {
   "cell_type": "markdown",
   "metadata": {
    "colab_type": "text",
    "id": "M-SEltsQbeh5"
   },
   "source": [
    "**Use the lists given below:**<br>\n",
    "\n",
    "    prices_monday = [10, 30, 50, 60, 90]\n",
    "\n",
    "    prices_tuesday = [50, 20, 80, 125, 10, 70]"
   ]
  },
  {
   "cell_type": "code",
   "execution_count": null,
   "metadata": {
    "colab": {},
    "colab_type": "code",
    "id": "oPKuRQNxbeh5"
   },
   "outputs": [],
   "source": [
    "import numpy as np\n",
    "\n",
    "prices_monday = [10, 30, 50, 60, 90]\n",
    "prices_tuesday = [50, 20, 80, 125, 10, 70]\n",
    "\n",
    "#intersect1d is the function for 1 dimentsional array.\n",
    "commn= np.intersect1d(prices_monday,prices_tuesday)\n",
    "print(commn)"
   ]
  },
  {
   "cell_type": "markdown",
   "metadata": {
    "colab_type": "text",
    "id": "7IAO_XIgbeh8"
   },
   "source": [
    "<table align=\"left\">\n",
    "    <tr>\n",
    "        <td width=\"6%\">\n",
    "            <img src=\"question_icon.png\">\n",
    "        </td>\n",
    "        <td>\n",
    "            <div align=\"left\", style=\"font-size:120%\">\n",
    "                <font color=\"#21618C\">\n",
    "                    <b>10. Write a program to find BMI of the patients whose height and weight is provided in the list given below \n",
    "                    </b>\n",
    "                </font>\n",
    "            </div>\n",
    "        </td>\n",
    "    </tr>\n",
    "</table>"
   ]
  },
  {
   "cell_type": "markdown",
   "metadata": {
    "colab_type": "text",
    "id": "0hd186vdbeh8"
   },
   "source": [
    "**Use the lists given below:**<br>\n",
    "\n",
    "    list of weights (in kg)\n",
    "    weights = [57, 69, 54, 65 ,71, 62, 56]\n",
    "\n",
    "    list of heights (in m)<br>\n",
    "    heights = [1.59, 1.75, 1.66, 1.74, 1.64, 1.72, 1.53] "
   ]
  },
  {
   "cell_type": "code",
   "execution_count": null,
   "metadata": {
    "colab": {},
    "colab_type": "code",
    "id": "pak7zb0nbeh9"
   },
   "outputs": [],
   "source": [
    "# type your code here\n",
    "weights = [57, 69, 54, 65 ,71, 62, 56]\n",
    "heights = [1.59, 1.75, 1.66, 1.74, 1.64, 1.72, 1.53]\n",
    "# function bmi = weight/(height**2)\n",
    "for i in range(0,len(weights)):\n",
    "    bmi = weights[i]/(heights[i]**2)\n",
    "    print(\"BMI of person: \"+ str(i)+\" is:\"+str(bmi))"
   ]
  },
  {
   "cell_type": "markdown",
   "metadata": {
    "colab_type": "text",
    "id": "ec1kOlTSbeh_"
   },
   "source": [
    "<table align=\"left\">\n",
    "    <tr>\n",
    "        <td width=\"6%\">\n",
    "            <img src=\"question_icon.png\">\n",
    "        </td>\n",
    "        <td>\n",
    "            <div align=\"left\", style=\"font-size:120%\">\n",
    "                <font color=\"#21618C\">\n",
    "                    <b>11. Write a program to add a new column ([5,7]) at the last position in the array given below \n",
    "                    </b>\n",
    "                </font>\n",
    "            </div>\n",
    "        </td>\n",
    "    </tr>\n",
    "</table>"
   ]
  },
  {
   "cell_type": "markdown",
   "metadata": {
    "colab_type": "text",
    "id": "74rcorbKbeh_"
   },
   "source": [
    "**Use the array given below:**\n",
    "\n",
    "    array1 = [[[3, 4], [8, 2],[5, 9]]]"
   ]
  },
  {
   "cell_type": "code",
   "execution_count": 11,
   "metadata": {
    "colab": {},
    "colab_type": "code",
    "id": "jMSSaHygbeiA"
   },
   "outputs": [
    {
     "name": "stdout",
     "output_type": "stream",
     "text": [
      "[[[3 4]\n",
      "  [8 2]\n",
      "  [5 9]\n",
      "  [5 7]]]\n"
     ]
    }
   ],
   "source": [
    "# type your code here\n",
    "import numpy as np\n",
    "\n",
    "array1 = [[[3, 4], [8, 2],[5, 9]]] \n",
    "\n",
    "new_column = ([[[5,7]]]) \n",
    "#The following one dimension array needs to be converted 3 dimention to append. For now we will hardcode as the question does\n",
    "#not mention converting 1d to 3d, we can use reshape in such cases.\n",
    "\n",
    "new3darray = np.append(array1,new_column,axis=1)\n",
    "print(new3darray)"
   ]
  },
  {
   "cell_type": "markdown",
   "metadata": {
    "colab_type": "text",
    "id": "LlOzsXogbeiC"
   },
   "source": [
    "<table align=\"left\">\n",
    "    <tr>\n",
    "        <td width=\"6%\">\n",
    "            <img src=\"question_icon.png\">\n",
    "        </td>\n",
    "        <td>\n",
    "            <div align=\"left\", style=\"font-size:120%\">\n",
    "                <font color=\"#21618C\">\n",
    "                    <b>12. Write a code to print the identity matrix of order 5</b>\n",
    "                </font>\n",
    "            </div>\n",
    "        </td>\n",
    "    </tr>\n",
    "</table>"
   ]
  },
  {
   "cell_type": "code",
   "execution_count": null,
   "metadata": {
    "colab": {},
    "colab_type": "code",
    "id": "ZJh7inO1beiC"
   },
   "outputs": [],
   "source": [
    "# type your code here\n",
    "import numpy as np\n",
    "a = np.identity(5) \n",
    "print(\"\\nMatrix a : \\n\", a) "
   ]
  },
  {
   "cell_type": "markdown",
   "metadata": {
    "colab_type": "text",
    "id": "aFajPHw0beiE"
   },
   "source": [
    "<table align=\"left\">\n",
    "    <tr>\n",
    "        <td width=\"6%\">\n",
    "            <img src=\"question_icon.png\">\n",
    "        </td>\n",
    "        <td>\n",
    "            <div align=\"left\", style=\"font-size:120%\">\n",
    "                <font color=\"#21618C\">\n",
    "                    <b>13. Write a program to transpose a matrix \n",
    "                    </b>\n",
    "                </font>\n",
    "            </div>\n",
    "        </td>\n",
    "    </tr>\n",
    "</table>"
   ]
  },
  {
   "cell_type": "markdown",
   "metadata": {
    "colab_type": "text",
    "id": "FDsZ9zD6beiE"
   },
   "source": [
    "**Use the matrix given below:**\n",
    "    \n",
    "    M = [[15, 17, 45, 56], [7, 42, 15, 63], [54, 3, 61, 41], [0, 87, 16, 20]]"
   ]
  },
  {
   "cell_type": "code",
   "execution_count": 12,
   "metadata": {
    "colab": {},
    "colab_type": "code",
    "id": "vQkvDxk1beiF"
   },
   "outputs": [
    {
     "name": "stdout",
     "output_type": "stream",
     "text": [
      "[[15  7 54  0]\n",
      " [17 42  3 87]\n",
      " [45 15 61 16]\n",
      " [56 63 41 20]]\n"
     ]
    }
   ],
   "source": [
    "# type your code here\n",
    "import numpy as np\n",
    "M = [[15, 17, 45, 56], [7, 42, 15, 63], [54, 3, 61, 41], [0, 87, 16, 20]]\n",
    "tp = np.transpose(M)\n",
    "print(tp)"
   ]
  },
  {
   "cell_type": "markdown",
   "metadata": {
    "colab_type": "text",
    "id": "ocSa1c5zbeiH"
   },
   "source": [
    "<a id=\"Stacking\"> </a>\n",
    "## 3. Stacking"
   ]
  },
  {
   "cell_type": "markdown",
   "metadata": {
    "colab_type": "text",
    "id": "GJzjoAASbeiJ"
   },
   "source": [
    "<table align=\"left\">\n",
    "    <tr>\n",
    "        <td width=\"6%\">\n",
    "            <img src=\"question_icon.png\">\n",
    "        </td>\n",
    "        <td>\n",
    "            <div align=\"left\", style=\"font-size:120%\">\n",
    "                <font color=\"#21618C\">\n",
    "                    <b>14. Write a program to combine the two arrays vertically</b>\n",
    "                </font>\n",
    "            </div>\n",
    "        </td>\n",
    "    </tr>\n",
    "</table>"
   ]
  },
  {
   "cell_type": "markdown",
   "metadata": {
    "colab_type": "text",
    "id": "A4V3JmW4beiJ"
   },
   "source": [
    "**Use the arrays given below: (or create your own array)**<br>\n",
    "\n",
    "    A1 = [[5, 9], [7, 6]]\n",
    "\n",
    "    A2 = [[8,-7], [0,4]]\n",
    "\n",
    "Combine the array A2 with A1"
   ]
  },
  {
   "cell_type": "code",
   "execution_count": 13,
   "metadata": {
    "colab": {},
    "colab_type": "code",
    "id": "urVo4cp4beiK"
   },
   "outputs": [
    {
     "name": "stdout",
     "output_type": "stream",
     "text": [
      "[[ 8 -7]\n",
      " [ 0  4]\n",
      " [ 5  9]\n",
      " [ 7  6]]\n"
     ]
    }
   ],
   "source": [
    "# type your code here\n",
    "import numpy as np\n",
    "A1 = [[5, 9], [7, 6]]\n",
    "A2 = [[8,-7], [0,4]]\n",
    "\n",
    "#vstack parameters order define the way they will be stacked.\n",
    "#Combile A2 with A1, I assume we need to pass A2,A1 in vstack\n",
    "\n",
    "A3=np.vstack((A2, A1))\n",
    "print(A3)"
   ]
  },
  {
   "cell_type": "markdown",
   "metadata": {
    "colab_type": "text",
    "id": "RhdRGMQ9beiM"
   },
   "source": [
    "<table align=\"left\">\n",
    "    <tr>\n",
    "        <td width=\"6%\">\n",
    "            <img src=\"question_icon.png\">\n",
    "        </td>\n",
    "        <td>\n",
    "            <div align=\"left\", style=\"font-size:120%\">\n",
    "                <font color=\"#21618C\">\n",
    "                    <b>15. Write a code to combine the two arrays horizontally</b>\n",
    "                </font>\n",
    "            </div>\n",
    "        </td>\n",
    "    </tr>\n",
    "</table>"
   ]
  },
  {
   "cell_type": "markdown",
   "metadata": {
    "colab_type": "text",
    "id": "a6Ns43vebeiM"
   },
   "source": [
    "**Use the arrays given below: (or create your own array)**\n",
    "\n",
    "    A1 = [[-81, 75, 40], [27, 67, 52]]\n",
    "\n",
    "    A2 = [[15, 54], [39, 56]]\n",
    "\n",
    "Combine the array A2 with A1"
   ]
  },
  {
   "cell_type": "code",
   "execution_count": 14,
   "metadata": {
    "colab": {},
    "colab_type": "code",
    "id": "w640e_vMbeiN"
   },
   "outputs": [
    {
     "name": "stdout",
     "output_type": "stream",
     "text": [
      "[[ 15  54 -81  75  40]\n",
      " [ 39  56  27  67  52]]\n"
     ]
    }
   ],
   "source": [
    "import numpy as np\n",
    "A1 = [[-81, 75, 40], [27, 67, 52]]\n",
    "A2 = [[15, 54], [39, 56]]\n",
    "A3 = np.hstack((A2,A1))\n",
    "print(A3)"
   ]
  },
  {
   "cell_type": "markdown",
   "metadata": {
    "colab_type": "text",
    "id": "rJoFdILPbeiP"
   },
   "source": [
    "<a id=\"Splitting\"> </a>\n",
    "## 4. Splitting"
   ]
  },
  {
   "cell_type": "markdown",
   "metadata": {
    "colab_type": "text",
    "id": "MImHyrD4beiQ"
   },
   "source": [
    "<table align=\"left\">\n",
    "    <tr>\n",
    "        <td width=\"6%\">\n",
    "            <img src=\"question_icon.png\">\n",
    "        </td>\n",
    "        <td>\n",
    "            <div align=\"left\", style=\"font-size:120%\">\n",
    "                <font color=\"#21618C\">\n",
    "                    <b>16. Write a code to divide the array into three sub-arrays containing\n",
    "                       equal number of rows</b>\n",
    "                </font>\n",
    "            </div>\n",
    "        </td>\n",
    "    </tr>\n",
    "</table>"
   ]
  },
  {
   "cell_type": "markdown",
   "metadata": {
    "colab_type": "text",
    "id": "qRNYzdgGbeiQ"
   },
   "source": [
    "**Use the array given below:**<br>\n",
    "\n",
    "    A = [[4, 7], [2, -3], [8, 1], [0, 9], [5,-1], [8, 3]]"
   ]
  },
  {
   "cell_type": "code",
   "execution_count": 15,
   "metadata": {
    "colab": {},
    "colab_type": "code",
    "id": "IDQemShwbeiQ"
   },
   "outputs": [
    {
     "name": "stdout",
     "output_type": "stream",
     "text": [
      "Original Matrix:\n",
      "[[4, 7], [2, -3], [8, 1], [0, 9], [5, -1], [8, 3]]\n",
      "=====Result======\n",
      "[[ 4  7]\n",
      " [ 2 -3]]\n",
      "[[8 1]\n",
      " [0 9]]\n",
      "[[ 5 -1]\n",
      " [ 8  3]]\n"
     ]
    }
   ],
   "source": [
    "# type your code here\n",
    "import numpy as np\n",
    "A = [[4, 7], [2, -3], [8, 1], [0, 9], [5,-1], [8, 3]]\n",
    "print(\"Original Matrix:\")\n",
    "print(A)\n",
    "print(\"=====Result======\")\n",
    "B1,B2,B3 = np.array_split(A,3,axis=0)\n",
    "print(B1)\n",
    "print(B2)\n",
    "print(B3)\n",
    "\n"
   ]
  },
  {
   "cell_type": "markdown",
   "metadata": {
    "colab_type": "text",
    "id": "shQHWLIHbeiT"
   },
   "source": [
    "<table align=\"left\">\n",
    "    <tr>\n",
    "        <td width=\"6%\">\n",
    "            <img src=\"question_icon.png\">\n",
    "        </td>\n",
    "        <td>\n",
    "            <div align=\"left\", style=\"font-size:120%\">\n",
    "                <font color=\"#21618C\">\n",
    "                    <b>17. Write a program to divide the array into two sub-arrays containing equal number of columns\n",
    "                    </b>\n",
    "                </font>\n",
    "            </div>\n",
    "        </td>\n",
    "    </tr>\n",
    "</table>"
   ]
  },
  {
   "cell_type": "markdown",
   "metadata": {
    "colab_type": "text",
    "id": "yU-xkFPvbeiT"
   },
   "source": [
    "**Use the array given below:**\n",
    "\n",
    "    B = [[8, 7, 0, 9], [2, -3, 5, 10], [8, 5, -1,3]]"
   ]
  },
  {
   "cell_type": "code",
   "execution_count": 17,
   "metadata": {
    "colab": {},
    "colab_type": "code",
    "id": "qamvSdNAbeiU"
   },
   "outputs": [
    {
     "name": "stdout",
     "output_type": "stream",
     "text": [
      "[[8, 7, 0, 9], [2, -3, 5, 10], [8, 5, -1, 3]]\n",
      "=====Result======\n",
      "[[8 7 0 9]]\n",
      "[[ 2 -3  5 10]]\n",
      "[[ 8  5 -1  3]]\n",
      "[[ 2 -3]]\n",
      "[[ 5 10]]\n",
      "Final Result\n",
      "[ 8  7  0  9  2 -3]\n",
      "[ 8  5 -1  3  5 10]\n"
     ]
    }
   ],
   "source": [
    "# type your code here\n",
    "import numpy as np\n",
    "B = [[8, 7, 0, 9], [2, -3, 5, 10], [8, 5, -1,3]]\n",
    "print(B)\n",
    "\n",
    "#Step 1: First break the matrix horizontally into 3 row\n",
    "print(\"=====Result======\")\n",
    "B1,B2,B3= np.array_split(B,3,axis=0)\n",
    "print(B1)\n",
    "print(B2)\n",
    "print(B3)\n",
    "#Step 2: Then break one of the row vertically into two so that it can be merged with the remaining two rows\n",
    "B21, B22 = np.array_split(B2,2,axis=1)\n",
    "\n",
    "print(B21)\n",
    "print(B22)\n",
    "\n",
    "#Print the final result by merging the divided row into remaining two rows\n",
    "B11 = np.append(B1 , B21)\n",
    "B12 = np.append(B3,B22)\n",
    "\n",
    "print(\"Final Result\")\n",
    "print(B11)\n",
    "print(B12)"
   ]
  },
  {
   "cell_type": "markdown",
   "metadata": {
    "colab_type": "text",
    "id": "j7If6FtkbeiW"
   },
   "source": [
    "<a id=\"loop\"> </a>\n",
    "## 5. For Loop"
   ]
  },
  {
   "cell_type": "markdown",
   "metadata": {
    "colab_type": "text",
    "id": "hQnJS7ZmbeiX"
   },
   "source": [
    "<table align=\"left\">\n",
    "    <tr>\n",
    "        <td width=\"6%\">\n",
    "            <img src=\"question_icon.png\">\n",
    "        </td>\n",
    "        <td>\n",
    "            <div align=\"left\", style=\"font-size:120%\">\n",
    "                <font color=\"#21618C\">\n",
    "                    <b>18. Write a program to perform one-to-one mapping of the two lists</b>\n",
    "                </font>\n",
    "            </div>\n",
    "        </td>\n",
    "    </tr>\n",
    "</table>"
   ]
  },
  {
   "cell_type": "markdown",
   "metadata": {
    "colab_type": "text",
    "id": "894hNtHwbeiX"
   },
   "source": [
    "**Use the lists given below: (or create your own lists)**<br>\n",
    "\n",
    "    L1 = [45, 67, 56, 71, 54, 62, 56]\n",
    "\n",
    "    L2 = [21, 52, 64, 10, 49, 74, 26]"
   ]
  },
  {
   "cell_type": "code",
   "execution_count": null,
   "metadata": {
    "colab": {},
    "colab_type": "code",
    "id": "Ned5rRarbeiX"
   },
   "outputs": [],
   "source": [
    "#Create a list of tuples\n",
    "L1 = [45, 67, 56, 71, 54, 62, 56]\n",
    "\n",
    "L2 = [21, 52, 64, 10, 49, 74, 26]\n",
    "\n",
    "L3 = list(zip(L1, L2))\n",
    "\n",
    "print(L3)\n"
   ]
  },
  {
   "cell_type": "markdown",
   "metadata": {
    "colab_type": "text",
    "id": "y1Euz_mMbeib"
   },
   "source": [
    "<table align=\"left\">\n",
    "    <tr>\n",
    "        <td width=\"6%\">\n",
    "            <img src=\"question_icon.png\">\n",
    "        </td>\n",
    "        <td>\n",
    "            <div align=\"left\", style=\"font-size:120%\">\n",
    "                <font color=\"#21618C\">\n",
    "                    <b>19. Define a for loop to apply the function (2x-1)/(x+5) on every element of an array </b>\n",
    "                </font>\n",
    "            </div>\n",
    "        </td>\n",
    "    </tr>\n",
    "</table>"
   ]
  },
  {
   "cell_type": "markdown",
   "metadata": {
    "colab_type": "text",
    "id": "wEbUS--hbeib"
   },
   "source": [
    "**Use the list given below:**\n",
    "    \n",
    "\n",
    "numbers = [6, 5, 3, 15]"
   ]
  },
  {
   "cell_type": "code",
   "execution_count": null,
   "metadata": {
    "colab": {},
    "colab_type": "code",
    "id": "hUmj2ep8beib"
   },
   "outputs": [],
   "source": [
    "    \n",
    "import numpy as np \n",
    "\n",
    "def process(x):\n",
    "    return ((2*x-1)/(x+5))\n",
    "\n",
    "numbers = [6, 5, 3, 15]\n",
    "\n",
    "x = np.array(numbers)\n",
    "\n",
    "# Obtain array of formula applied of each element in x\n",
    "pnumbers = np.array([process(xi) for xi in x])\n",
    "print(pnumbers)\n",
    "\n"
   ]
  },
  {
   "cell_type": "markdown",
   "metadata": {
    "colab_type": "text",
    "id": "A9rQySHGbeie"
   },
   "source": [
    "<table align=\"left\">\n",
    "    <tr>\n",
    "        <td width=\"6%\">\n",
    "            <img src=\"question_icon.png\">\n",
    "        </td>\n",
    "        <td>\n",
    "            <div align=\"left\", style=\"font-size:120%\">\n",
    "                <font color=\"#21618C\">\n",
    "                    <b>20. Create an identity matrix with n dimensions (take input from the user). Fill the diagonals of that matrix with the multiples of the number provided by the user; take another input from the user. Consider the output below as an example </b>\n",
    "                </font>\n",
    "            </div>\n",
    "        </td>\n",
    "    </tr>\n",
    "</table>"
   ]
  },
  {
   "cell_type": "markdown",
   "metadata": {
    "colab_type": "text",
    "id": "9F6Xqvihbeie"
   },
   "source": [
    "<table align=\"center\">\n",
    "    <td height = '100', width = '700'>\n",
    "          <img src=\"que 20.png\">\n",
    "        </td>\n",
    "</table>"
   ]
  },
  {
   "cell_type": "code",
   "execution_count": 24,
   "metadata": {
    "colab": {},
    "colab_type": "code",
    "id": "H7OL0Y0Ibeie"
   },
   "outputs": [
    {
     "name": "stdout",
     "output_type": "stream",
     "text": [
      "Enter the dimension: 3\n",
      "[[1 0 0]\n",
      " [0 1 0]\n",
      " [0 0 1]] \n",
      "\n",
      "Enter the number to fill the diagnols with its multiples: 3\n",
      "[[3 6 9]\n",
      " [3 6 9]\n",
      " [3 6 9]]\n",
      "Final Array op:\n",
      " [[3 0 0]\n",
      " [0 6 0]\n",
      " [0 0 9]]\n",
      "[[1 0 0]\n",
      " [0 1 0]\n",
      " [0 0 1]]\n"
     ]
    }
   ],
   "source": [
    "#using numpy.identity()\n",
    "\n",
    "#import module numpy\n",
    "import numpy as np\n",
    "\n",
    "def createIdMtx(dim):\n",
    "   #  matrix with 1's on main diagnol\n",
    "   b = np.identity(dim, dtype = int)\n",
    "   array = np.array(b)\n",
    "   return array\n",
    "\n",
    "userInput = int(input(\"Enter the dimension: \"));\n",
    "identityMat = createIdMtx(dim=userInput)\n",
    "print(createIdMtx(dim=userInput) ,\"\\n\")\n",
    "\n",
    "userInput2 = int(input(\"Enter the number to fill the diagnols with its multiples: \"));\n",
    "newArr = []\n",
    "for i in range(1,userInput+1):\n",
    "   val = i*userInput2\n",
    "   newArr.append(val)  \n",
    "   \n",
    "repeats_array = np.tile(newArr, (userInput, 1))\n",
    "print(repeats_array)\n",
    "\n",
    "opMat = repeats_array*identityMat\n",
    "print(\"Final Array op:\\n\", opMat)\n",
    "\n"
   ]
  },
  {
   "cell_type": "code",
   "execution_count": null,
   "metadata": {},
   "outputs": [],
   "source": []
  },
  {
   "cell_type": "code",
   "execution_count": null,
   "metadata": {},
   "outputs": [],
   "source": []
  }
 ],
 "metadata": {
  "colab": {
   "name": "NPV - In-Class - Lab Exercise (DAY 1) - Questions [v2.0 - 190320].ipynb",
   "provenance": []
  },
  "kernelspec": {
   "display_name": "Python 3",
   "language": "python",
   "name": "python3"
  },
  "language_info": {
   "codemirror_mode": {
    "name": "ipython",
    "version": 3
   },
   "file_extension": ".py",
   "mimetype": "text/x-python",
   "name": "python",
   "nbconvert_exporter": "python",
   "pygments_lexer": "ipython3",
   "version": "3.7.6"
  }
 },
 "nbformat": 4,
 "nbformat_minor": 1
}
