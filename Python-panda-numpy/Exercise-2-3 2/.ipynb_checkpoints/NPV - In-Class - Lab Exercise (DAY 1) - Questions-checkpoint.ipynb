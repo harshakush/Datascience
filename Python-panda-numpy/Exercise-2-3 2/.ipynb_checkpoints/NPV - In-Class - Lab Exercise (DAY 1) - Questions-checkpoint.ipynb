{
 "cells": [
  {
   "cell_type": "markdown",
   "metadata": {
    "colab_type": "text",
    "id": "GuFb-u9SbehT"
   },
   "source": [
    "##      NPV    -DAY 1--NUMPY Exercises"
   ]
  },
  {
   "cell_type": "markdown",
   "metadata": {
    "colab_type": "text",
    "id": "jZEkUUZDbehV"
   },
   "source": [
    "##  Table of Content\n",
    "\n",
    "1. **[One Dimensional Array](#1D)**\n",
    "2. **[Two Dimensional Array](#2D)**\n",
    "3. **[Stacking](#Stacking)**\n",
    "4. **[Splitting](#Splitting)**\n"
   ]
  },
  {
   "cell_type": "markdown",
   "metadata": {
    "colab_type": "text",
    "id": "MHPttB0tbehW"
   },
   "source": [
    "**Import the NumPy library before solving the exercises**"
   ]
  },
  {
   "cell_type": "markdown",
   "metadata": {
    "colab_type": "text",
    "id": "L8TzYuGWbehW"
   },
   "source": [
    "### Let's begin with some hands-on practice exercises"
   ]
  },
  {
   "cell_type": "markdown",
   "metadata": {
    "colab_type": "text",
    "id": "xfum17oYbehX"
   },
   "source": [
    "<a id=\"1D\"> </a>\n",
    "## 1. One Dimensional Array"
   ]
  },
  {
   "cell_type": "markdown",
   "metadata": {
    "colab_type": "text",
    "id": "depCyxbdbehY"
   },
   "source": [
    "\n",
    " ## <b>1. Write a NumPy program to convert a list of numeric values into a one-dimensional NumPy array</b>\n",
    "               "
   ]
  },
  {
   "cell_type": "markdown",
   "metadata": {
    "colab_type": "text",
    "id": "id8gb5YXbehY"
   },
   "source": [
    "**Use the list given below: (or create your own list)**<br>\n",
    "\n",
    "    list_temperature = [3.04, 1.65, 5.76, 1.66, 1.54, 4.69, 2.68]"
   ]
  },
  {
   "cell_type": "code",
   "execution_count": null,
   "metadata": {
    "colab": {},
    "colab_type": "code",
    "id": "E1Qm9gbsbehZ"
   },
   "outputs": [],
   "source": [
    "import numpy as np\n",
    "list_temperature = [3.04, 1.65, 5.76, 1.66, 1.54, 4.69, 2.68]\n",
    "print(\"Original List:\",list_temperature)\n",
    "a = np.array(list_temperature)\n",
    "print(\"One-dimensional NumPy array: \",a)"
   ]
  },
  {
   "cell_type": "markdown",
   "metadata": {
    "colab_type": "text",
    "id": "dzppBkKlbehd"
   },
   "source": [
    "##                    <b>2. Create a 1D array of weights of 10 students and retrieve all the weights greater than 68</b>\n",
    "               "
   ]
  },
  {
   "cell_type": "markdown",
   "metadata": {
    "colab_type": "text",
    "id": "67NOJtMfbehd"
   },
   "source": [
    "**Use the weights given below: (or create your own list)**\n",
    "\n",
    "    weights = [74.2, 85, 74, 67.9, 52, 70.5, 86, 51.8, 64, 82]"
   ]
  },
  {
   "cell_type": "code",
   "execution_count": 3,
   "metadata": {
    "colab": {},
    "colab_type": "code",
    "id": "EiwNG6NQbehe"
   },
   "outputs": [
    {
     "name": "stdout",
     "output_type": "stream",
     "text": [
      "One-dimensional NumPy array:  [74.2 85.  74.  67.9 52.  70.5 86.  51.8 64.  82. ]\n",
      "Values bigger than 68 = [74.2 85.  74.  70.5 86.  82. ]\n",
      "Their indices are  (array([0, 1, 2, 5, 6, 9]),)\n"
     ]
    }
   ],
   "source": [
    "# type your code here\n",
    "weights = [74.2, 85, 74, 67.9, 52, 70.5, 86, 51.8, 64, 82]\n",
    "a = np.array(weights)\n",
    "print(\"One-dimensional NumPy array: \",a)\n",
    "print(\"Values bigger than 68 =\", a[a>68])\n",
    "print(\"Their indices are \", np.nonzero(a > 68))"
   ]
  },
  {
   "cell_type": "markdown",
   "metadata": {
    "colab_type": "text",
    "id": "HBYsorFEbehh"
   },
   "source": [
    "##                    <b>3. Write a code to generate 10 random integers between 20 to 40 (Is it possible to generate same random numbers everytime? If yes, describe the function)\n",
    "                    "
   ]
  },
  {
   "cell_type": "code",
   "execution_count": 1,
   "metadata": {
    "colab": {},
    "colab_type": "code",
    "id": "wXvPOmTabehi"
   },
   "outputs": [
    {
     "name": "stdout",
     "output_type": "stream",
     "text": [
      "[26 23 34 25 26 34 33 35 22 26]\n",
      "685\n",
      "38\n",
      "169\n",
      "875\n",
      "123\n",
      "868\n",
      "907\n",
      "176\n",
      "452\n",
      "383\n"
     ]
    }
   ],
   "source": [
    "import numpy as np\n",
    "sampl = np.random.randint(low=20, high=40, size=(10,))\n",
    "print(sampl)\n",
    "#Yes Its possible to generate the same random numbers \n",
    "#using the seed function.\n",
    "# Generated random number will be between 1 to 1000.  The below code displays as the seed is used to\n",
    "#generate the pseudo random numbers using for loop\n",
    "for i in range(10):\n",
    "    np.random.seed(i) \n",
    "    print(np.random.randint(1, 1000))  \n",
    "    "
   ]
  },
  {
   "cell_type": "markdown",
   "metadata": {
    "colab_type": "text",
    "id": "aQkkjqDZbeho"
   },
   "source": [
    "##      4. Write a program to create an array of all the odd integers from 50 to 100 \n",
    "                   \n",
    "               "
   ]
  },
  {
   "cell_type": "code",
   "execution_count": 2,
   "metadata": {
    "colab": {},
    "colab_type": "code",
    "id": "Qpt-pf1Cbeho"
   },
   "outputs": [
    {
     "name": "stdout",
     "output_type": "stream",
     "text": [
      "Array of all the even integers from 50 to 100\n",
      "[51 53 55 57 59 61 63 65 67 69 71 73 75 77 79 81 83 85 87 89 91 93 95 97\n",
      " 99]\n"
     ]
    }
   ],
   "source": [
    "import numpy as np\n",
    "#Arrange numbers from 50 till 101 so that we cover 100 also its an even number with step size as 2!\n",
    "#another way to do this is take inputs from user\n",
    "#check if the range min is divisible by 2, if yes add 1 to make it odd.\n",
    "#once the min is converted to odd, the step addition of two makes it a odd series\n",
    "\n",
    "array=np.arange(51,100,2)\n",
    "print(\"Array of all the even integers from 50 to 100\")\n",
    "print(array) \n",
    "\n"
   ]
  },
  {
   "cell_type": "markdown",
   "metadata": {
    "colab_type": "text",
    "id": "q5Xzt47hbehr"
   },
   "source": [
    "\n",
    "   ##                <b>5. Write a program to calculate the sum of each column </b>\n",
    "                "
   ]
  },
  {
   "cell_type": "markdown",
   "metadata": {
    "colab_type": "text",
    "id": "ytP3e0lubehs"
   },
   "source": [
    "**Use the array given below: (or create your own array)**\n",
    "\n",
    "    A = [[1, 4, 8], [5, 7, 3], [9, 14, 2]]"
   ]
  },
  {
   "cell_type": "code",
   "execution_count": null,
   "metadata": {
    "colab": {},
    "colab_type": "code",
    "id": "OhKSiWJFbehs"
   },
   "outputs": [],
   "source": [
    "import numpy as np\n",
    "A = [[1, 4, 8], [5, 7, 3], [9, 14, 2]]\n",
    "#sums = A.sum(axis=1)\n",
    "print(A)\n",
    "#A is not matrix, we need to create one before we do any operation.\n",
    "a = np.arange(9).reshape(3,3)\n",
    "print(a)\n",
    "print(a.sum(axis=0))\n",
    "\n"
   ]
  },
  {
   "cell_type": "markdown",
   "metadata": {
    "colab_type": "text",
    "id": "_Ll-br2qbehv"
   },
   "source": [
    "##                     <b>6. Write a code to get the element-wise remainder of an array after division by 8 </b>\n",
    "                    \n",
    "                "
   ]
  },
  {
   "cell_type": "markdown",
   "metadata": {
    "colab_type": "text",
    "id": "Rxa4HT3Obehv"
   },
   "source": [
    "**Use the list given below:**<br>\n",
    "    \n",
    "    num = [42, 87, 90, 14, 32, 75, 61, 80, 92]"
   ]
  },
  {
   "cell_type": "code",
   "execution_count": 3,
   "metadata": {
    "colab": {},
    "colab_type": "code",
    "id": "GWQxTmdMbehw"
   },
   "outputs": [
    {
     "name": "stdout",
     "output_type": "stream",
     "text": [
      "Output remainder array:  [2 7 2 6 0 3 5 0 4]\n"
     ]
    }
   ],
   "source": [
    "import numpy as np\n",
    "\n",
    "num = [42, 87, 90, 14, 32, 75, 61, 80, 92]\n",
    "#Just one function call of remainder on the array and 8 is enough to get values\n",
    "out_arr = np.remainder(num, 8)  \n",
    "print (\"Output remainder array: \", out_arr) \n"
   ]
  },
  {
   "cell_type": "markdown",
   "metadata": {
    "colab_type": "text",
    "id": "cCPkpHF6behy"
   },
   "source": [
    "<a id=\"2D\"> </a>\n",
    "## 2. Two Dimensional Array"
   ]
  },
  {
   "cell_type": "markdown",
   "metadata": {
    "colab_type": "text",
    "id": "mdnO5naVbehy"
   },
   "source": [
    "##             <b>1. Create a 2D numpy array from a 1D array of 20 elements of your choice. Further, subset the first 5 elements from the second element of a resulting 2D array </b>\n",
    "                    \n",
    "               "
   ]
  },
  {
   "cell_type": "code",
   "execution_count": 9,
   "metadata": {
    "colab": {},
    "colab_type": "code",
    "id": "PJi7HXVSbehz"
   },
   "outputs": [
    {
     "name": "stdout",
     "output_type": "stream",
     "text": [
      "[[ 0  1  2  3  4]\n",
      " [ 5  6  7  8  9]\n",
      " [10 11 12 13 14]\n",
      " [15 16 17 18 19]]\n",
      "[5 6 7 8 9]\n",
      "[[1 2 3 4 5]]\n",
      "number of dimensions : 2\n"
     ]
    }
   ],
   "source": [
    "# type your code here\n",
    "arr = np.array([0, 1, 2, 3, 4, 5, 6, 7, 8, 9,10,11,12,13,14,15,16,17,18,19])\n",
    "# Convert 1D array to a 2D numpy array of 2 rows and 2 columns\n",
    "arr_2d = np.reshape(arr, (4, 5))\n",
    "print(arr_2d)\n",
    "\n",
    "#subset the values based on the column values. \n",
    "#1st row\n",
    "#and columns after the second element in the array which is 1\n",
    "subset = arr_2d[1]\n",
    "#subset = arr_2d[0:1, 2:8]\n",
    "print(subset)\n",
    "\n",
    "\n",
    "\n",
    "\n",
    "\n",
    "arr = np.array([1, 2, 3, 4,5], ndmin=2)\n",
    "\n",
    "print(arr)\n",
    "print('number of dimensions :', arr.ndim)\n"
   ]
  },
  {
   "cell_type": "markdown",
   "metadata": {
    "colab_type": "text",
    "id": "NGZISX4wbeh4"
   },
   "source": [
    "##                   <b>2. Write a program to find common values between two arrays </b>\n",
    "                    \n",
    "               "
   ]
  },
  {
   "cell_type": "markdown",
   "metadata": {
    "colab_type": "text",
    "id": "M-SEltsQbeh5"
   },
   "source": [
    "**Use the lists given below:**<br>\n",
    "\n",
    "    prices_monday = [10, 30, 50, 60, 90]\n",
    "\n",
    "    prices_tuesday = [50, 20, 80, 125, 10, 70]"
   ]
  },
  {
   "cell_type": "code",
   "execution_count": 10,
   "metadata": {
    "colab": {},
    "colab_type": "code",
    "id": "oPKuRQNxbeh5"
   },
   "outputs": [
    {
     "name": "stdout",
     "output_type": "stream",
     "text": [
      "[10 50]\n"
     ]
    }
   ],
   "source": [
    "import numpy as np\n",
    "\n",
    "prices_monday = [10, 30, 50, 60, 90]\n",
    "prices_tuesday = [50, 20, 80, 125, 10, 70]\n",
    "\n",
    "#intersect1d is the function for 1 dimentsional array.\n",
    "commn= np.intersect1d(prices_monday,prices_tuesday)\n",
    "print(commn)"
   ]
  },
  {
   "cell_type": "markdown",
   "metadata": {
    "colab_type": "text",
    "id": "7IAO_XIgbeh8"
   },
   "source": [
    "\n",
    "   ##               <b>3. Write a program to find BMI of the patients whose height and weight is provided in the list given below </b>\n",
    "                    \n",
    "              "
   ]
  },
  {
   "cell_type": "markdown",
   "metadata": {
    "colab_type": "text",
    "id": "0hd186vdbeh8"
   },
   "source": [
    "**Use the lists given below:**<br>\n",
    "\n",
    "    list of weights (in kg)\n",
    "    weights = [57, 69, 54, 65 ,71, 62, 56]\n",
    "\n",
    "    list of heights (in m)<br>\n",
    "    heights = [1.59, 1.75, 1.66, 1.74, 1.64, 1.72, 1.53] "
   ]
  },
  {
   "cell_type": "code",
   "execution_count": 16,
   "metadata": {
    "colab": {},
    "colab_type": "code",
    "id": "pak7zb0nbeh9"
   },
   "outputs": [
    {
     "name": "stdout",
     "output_type": "stream",
     "text": [
      "BMI of person: 0 is:22.54657648036074\n",
      "BMI of person: 1 is:22.53061224489796\n",
      "BMI of person: 2 is:19.5964581216432\n",
      "BMI of person: 3 is:21.469150482230148\n",
      "BMI of person: 4 is:26.397977394408095\n",
      "BMI of person: 5 is:20.9572742022715\n",
      "BMI of person: 6 is:23.92242299970097\n"
     ]
    }
   ],
   "source": [
    "# type your code here\n",
    "weights = [57, 69, 54, 65 ,71, 62, 56]\n",
    "heights = [1.59, 1.75, 1.66, 1.74, 1.64, 1.72, 1.53]\n",
    "\n",
    "wh = zip(weights,heights)\n",
    "\n",
    "#cl = list(map(lambda w,h: w/(h**2), wh))\n",
    "#print(cl)\n",
    "# function bmi = weight/(height**2)\n",
    "for i in range(0,len(weights)):\n",
    "    bmi = weights[i]/(heights[i]**2)\n",
    "    print(\"BMI of person: \"+ str(i)+\" is:\"+str(bmi))\n"
   ]
  },
  {
   "cell_type": "markdown",
   "metadata": {
    "colab_type": "text",
    "id": "ec1kOlTSbeh_"
   },
   "source": [
    "##                     <b>4. Write a program to add a new column ([5,7]) at the last position in the array given below     \n",
    "                \n",
    "                "
   ]
  },
  {
   "cell_type": "markdown",
   "metadata": {
    "colab_type": "text",
    "id": "74rcorbKbeh_"
   },
   "source": [
    "**Use the array given below:**\n",
    "\n",
    "    array1 = [[[3, 4], [8, 2],[5, 9]]]"
   ]
  },
  {
   "cell_type": "code",
   "execution_count": 20,
   "metadata": {
    "colab": {},
    "colab_type": "code",
    "id": "jMSSaHygbeiA"
   },
   "outputs": [
    {
     "name": "stdout",
     "output_type": "stream",
     "text": [
      "[[[3 4]\n",
      "  [8 2]\n",
      "  [5 9]\n",
      "  [5 7]]]\n"
     ]
    }
   ],
   "source": [
    "# type your code here\n",
    "import numpy as np\n",
    "\n",
    "array1 = [[[3, 4], [8, 2],[5, 9]]] \n",
    "\n",
    "new_column = ([[[5,7]]]) \n",
    "#The following one dimension array needs to be converted 3 dimention to append. For now we will hardcode as the question does\n",
    "#not mention converting 1d to 3d, we can use reshape in such cases.\n",
    "\n",
    "new3darray = np.append(array1,new_column,axis=1)\n",
    "print(new3darray)\n",
    "\n",
    "\n"
   ]
  },
  {
   "cell_type": "markdown",
   "metadata": {
    "colab_type": "text",
    "id": "LlOzsXogbeiC"
   },
   "source": [
    "##                     <b>5. Write a code to print the identity matrix of order 5</b>\n",
    "                "
   ]
  },
  {
   "cell_type": "code",
   "execution_count": 21,
   "metadata": {
    "colab": {},
    "colab_type": "code",
    "id": "ZJh7inO1beiC"
   },
   "outputs": [
    {
     "name": "stdout",
     "output_type": "stream",
     "text": [
      "\n",
      "Matrix a : \n",
      " [[1. 0. 0. 0. 0.]\n",
      " [0. 1. 0. 0. 0.]\n",
      " [0. 0. 1. 0. 0.]\n",
      " [0. 0. 0. 1. 0.]\n",
      " [0. 0. 0. 0. 1.]]\n"
     ]
    }
   ],
   "source": [
    "# type your code here\n",
    "import numpy as np\n",
    "a = np.identity(5) \n",
    "print(\"\\nMatrix a : \\n\", a) "
   ]
  },
  {
   "cell_type": "markdown",
   "metadata": {
    "colab_type": "text",
    "id": "aFajPHw0beiE"
   },
   "source": [
    "##                    <b>6. Write a program to transpose a matrix </b>\n",
    "                    \n",
    "                "
   ]
  },
  {
   "cell_type": "markdown",
   "metadata": {
    "colab_type": "text",
    "id": "FDsZ9zD6beiE"
   },
   "source": [
    "**Use the matrix given below:**\n",
    "    \n",
    "    M = [[15, 17, 45, 56], [7, 42, 15, 63], [54, 3, 61, 41], [0, 87, 16, 20]]"
   ]
  },
  {
   "cell_type": "code",
   "execution_count": 22,
   "metadata": {
    "colab": {},
    "colab_type": "code",
    "id": "vQkvDxk1beiF"
   },
   "outputs": [
    {
     "name": "stdout",
     "output_type": "stream",
     "text": [
      "[[15  7 54  0]\n",
      " [17 42  3 87]\n",
      " [45 15 61 16]\n",
      " [56 63 41 20]]\n"
     ]
    }
   ],
   "source": [
    "# type your code here\n",
    "import numpy as np\n",
    "M = [[15, 17, 45, 56], [7, 42, 15, 63], [54, 3, 61, 41], [0, 87, 16, 20]]\n",
    "tp = np.transpose(M)\n",
    "print(tp)"
   ]
  },
  {
   "cell_type": "markdown",
   "metadata": {
    "colab_type": "text",
    "id": "ocSa1c5zbeiH"
   },
   "source": [
    "<a id=\"Stacking\"> </a>\n",
    "## 3. Stacking"
   ]
  },
  {
   "cell_type": "markdown",
   "metadata": {
    "colab_type": "text",
    "id": "GJzjoAASbeiJ"
   },
   "source": [
    "##                     <b>7. Write a program to combine the two arrays vertically</b>\n",
    "                "
   ]
  },
  {
   "cell_type": "markdown",
   "metadata": {
    "colab_type": "text",
    "id": "A4V3JmW4beiJ"
   },
   "source": [
    "**Use the arrays given below: (or create your own array)**<br>\n",
    "\n",
    "    A1 = [[5, 9], [7, 6]]\n",
    "\n",
    "    A2 = [[8,-7], [0,4]]\n",
    "\n",
    "Combine the array A2 with A1"
   ]
  },
  {
   "cell_type": "code",
   "execution_count": 23,
   "metadata": {
    "colab": {},
    "colab_type": "code",
    "id": "urVo4cp4beiK"
   },
   "outputs": [
    {
     "name": "stdout",
     "output_type": "stream",
     "text": [
      "[[ 8 -7]\n",
      " [ 0  4]\n",
      " [ 5  9]\n",
      " [ 7  6]]\n"
     ]
    }
   ],
   "source": [
    "# type your code here\n",
    "import numpy as np\n",
    "A1 = [[5, 9], [7, 6]]\n",
    "A2 = [[8,-7], [0,4]]\n",
    "\n",
    "#vstack parameters order define the way they will be stacked.\n",
    "#Combile A2 with A1, I assume we need to pass A2,A1 in vstack\n",
    "\n",
    "A3=np.vstack((A2, A1))\n",
    "print(A3)\n"
   ]
  },
  {
   "cell_type": "markdown",
   "metadata": {
    "colab_type": "text",
    "id": "RhdRGMQ9beiM"
   },
   "source": [
    "##                     <b>8. Write a code to combine the two arrays horizontally</b>\n",
    "               "
   ]
  },
  {
   "cell_type": "markdown",
   "metadata": {
    "colab_type": "text",
    "id": "a6Ns43vebeiM"
   },
   "source": [
    "**Use the arrays given below: (or create your own array)**\n",
    "\n",
    "    A1 = [[-81, 75, 40], [27, 67, 52]]\n",
    "\n",
    "    A2 = [[15, 54], [39, 56]]\n",
    "\n",
    "Combine the array A2 with A1"
   ]
  },
  {
   "cell_type": "code",
   "execution_count": 24,
   "metadata": {
    "colab": {},
    "colab_type": "code",
    "id": "w640e_vMbeiN"
   },
   "outputs": [
    {
     "name": "stdout",
     "output_type": "stream",
     "text": [
      "[[ 15  54 -81  75  40]\n",
      " [ 39  56  27  67  52]]\n"
     ]
    }
   ],
   "source": [
    "# type your code here\n",
    "import numpy as np\n",
    "A1 = [[-81, 75, 40], [27, 67, 52]]\n",
    "A2 = [[15, 54], [39, 56]]\n",
    "A3 = np.hstack((A2,A1))\n",
    "print(A3)"
   ]
  },
  {
   "cell_type": "markdown",
   "metadata": {
    "colab_type": "text",
    "id": "rJoFdILPbeiP"
   },
   "source": [
    "<a id=\"Splitting\"> </a>\n",
    "## 4. Splitting"
   ]
  },
  {
   "cell_type": "markdown",
   "metadata": {
    "colab_type": "text",
    "id": "MImHyrD4beiQ"
   },
   "source": [
    "##      <b>9. Write a code to divide the array into three sub-arrays containing equal number of rows</b>\n",
    "                \n",
    "                      "
   ]
  },
  {
   "cell_type": "markdown",
   "metadata": {
    "colab_type": "text",
    "id": "qRNYzdgGbeiQ"
   },
   "source": [
    "**Use the array given below:**<br>\n",
    "\n",
    "    A = [[4, 7], [2, -3], [8, 1], [0, 9], [5,-1], [8, 3]]"
   ]
  },
  {
   "cell_type": "code",
   "execution_count": 25,
   "metadata": {
    "colab": {},
    "colab_type": "code",
    "id": "IDQemShwbeiQ"
   },
   "outputs": [
    {
     "name": "stdout",
     "output_type": "stream",
     "text": [
      "Original Matrix:\n",
      "[[4, 7], [2, -3], [8, 1], [0, 9], [5, -1], [8, 3]]\n",
      "=====Result======\n",
      "[[ 4  7]\n",
      " [ 2 -3]]\n",
      "[[8 1]\n",
      " [0 9]]\n",
      "[[ 5 -1]\n",
      " [ 8  3]]\n"
     ]
    }
   ],
   "source": [
    "# type your code here\n",
    "import numpy as np\n",
    "A = [[4, 7], [2, -3], [8, 1], [0, 9], [5,-1], [8, 3]]\n",
    "print(\"Original Matrix:\")\n",
    "print(A)\n",
    "print(\"=====Result======\")\n",
    "B1,B2,B3 = np.array_split(A,3)\n",
    "print(B1)\n",
    "print(B2)\n",
    "print(B3)\n"
   ]
  },
  {
   "cell_type": "markdown",
   "metadata": {
    "colab_type": "text",
    "id": "shQHWLIHbeiT"
   },
   "source": [
    "##                     <b>10. Write a program to divide the array into two sub-arrays containing equal number of columns</b>\n",
    "                    \n",
    "                "
   ]
  },
  {
   "cell_type": "markdown",
   "metadata": {
    "colab_type": "text",
    "id": "yU-xkFPvbeiT"
   },
   "source": [
    "**Use the array given below:**\n",
    "\n",
    "    B = [[8, 7, 0, 9], [2, -3, 5, 10], [8, 5, -1,3]]"
   ]
  },
  {
   "cell_type": "code",
   "execution_count": 30,
   "metadata": {
    "colab": {},
    "colab_type": "code",
    "id": "qamvSdNAbeiU"
   },
   "outputs": [
    {
     "name": "stdout",
     "output_type": "stream",
     "text": [
      "[[8, 7, 0, 9], [2, -3, 5, 10], [8, 5, -1, 3]]\n",
      "=====Result======\n",
      "[[8 7 0 9]]\n",
      "[[ 2 -3  5 10]]\n",
      "[[ 8  5 -1  3]]\n",
      "[[ 2 -3]]\n",
      "[[ 5 10]]\n",
      "[ 8  7  0  9  2 -3]\n",
      "[ 8  5 -1  3  5 10]\n",
      "[ 8  7  0  9  2 -3  8  5 -1  3  5 10]\n"
     ]
    }
   ],
   "source": [
    "# type your code here\n",
    "import numpy as np\n",
    "B = [[8, 7, 0, 9], [2, -3, 5, 10], [8, 5, -1,3]]\n",
    "\n",
    "\n",
    "print(B)\n",
    "\n",
    "#Step 1: First break the matrix horizontally into 3 row\n",
    "print(\"=====Result======\")\n",
    "B1,B2,B3= np.array_split(B,3,axis=0)\n",
    "print(B1)\n",
    "print(B2)\n",
    "print(B3)\n",
    "#Step 2: Then break one of the row vertically into two so that it can be merged with the remaining two rows\n",
    "B21, B22 = np.array_split(B2,2,axis=1)\n",
    "\n",
    "print(B21)\n",
    "print(B22)\n",
    "\n",
    "#Print the final result by merging the divided row into remaining two rows\n",
    "B11 = np.append(B1 , B21)\n",
    "B12 = np.append(B3,B22)\n",
    "\n",
    "print(B11)\n",
    "print(B12)\n",
    "B13 = np.hstack((B11,B12))\n",
    "print(B13)\n",
    "\n"
   ]
  },
  {
   "cell_type": "code",
   "execution_count": null,
   "metadata": {},
   "outputs": [],
   "source": []
  },
  {
   "cell_type": "code",
   "execution_count": null,
   "metadata": {},
   "outputs": [],
   "source": []
  }
 ],
 "metadata": {
  "colab": {
   "name": "NPV - In-Class - Lab Exercise (DAY 1) - Questions [v2.0 - 190320].ipynb",
   "provenance": []
  },
  "kernelspec": {
   "display_name": "Python 3",
   "language": "python",
   "name": "python3"
  },
  "language_info": {
   "codemirror_mode": {
    "name": "ipython",
    "version": 3
   },
   "file_extension": ".py",
   "mimetype": "text/x-python",
   "name": "python",
   "nbconvert_exporter": "python",
   "pygments_lexer": "ipython3",
   "version": "3.7.6"
  }
 },
 "nbformat": 4,
 "nbformat_minor": 1
}
