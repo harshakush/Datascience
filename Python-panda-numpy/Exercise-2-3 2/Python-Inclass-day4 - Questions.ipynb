{
 "cells": [
  {
   "cell_type": "raw",
   "metadata": {
    "colab_type": "text",
    "id": "ewz9z--GQgh8"
   },
   "source": [
    "1. Write a Python function to multiply all the numbers in a list."
   ]
  },
  {
   "cell_type": "code",
   "execution_count": 6,
   "metadata": {
    "colab": {},
    "colab_type": "code",
    "id": "lK-hZOrfQgh_"
   },
   "outputs": [
    {
     "name": "stdout",
     "output_type": "stream",
     "text": [
      "8\n",
      "0\n",
      "-8\n"
     ]
    }
   ],
   "source": [
    "import  numpy as np\n",
    "def multiply(ls):\n",
    "    total = 1\n",
    "    for i in ls:\n",
    "        total = total * i\n",
    "    return total\n",
    "\n",
    "#test1\n",
    "lst = [1,2,4,1]\n",
    "print(multiply(lst))\n",
    "\n",
    "#test2\n",
    "lst2 = [1,2,4,0]\n",
    "print(multiply(lst2))\n",
    "\n",
    "#test3\n",
    "lst3 = [1,2,4,-1]\n",
    "print(np.prod(lst3))\n",
    "#print(multiply(lst3))"
   ]
  },
  {
   "cell_type": "raw",
   "metadata": {
    "colab_type": "text",
    "id": "g2Z8raThQgiK"
   },
   "source": [
    "2. Write a function to check the number is divisible by 12"
   ]
  },
  {
   "cell_type": "code",
   "execution_count": 2,
   "metadata": {
    "colab": {},
    "colab_type": "code",
    "id": "IVEQ_4cXQgiL"
   },
   "outputs": [
    {
     "name": "stdout",
     "output_type": "stream",
     "text": [
      "Number is not divisble\n"
     ]
    }
   ],
   "source": [
    "def isNumDivBy12(num):\n",
    "    if(num%12 == 0):\n",
    "        return True\n",
    "    return False\n",
    "\n",
    "if isNumDivBy12(23):\n",
    "    print(\"Number is divisble\")\n",
    "else:\n",
    "    print(\"Number is not divisble\")\n"
   ]
  },
  {
   "cell_type": "raw",
   "metadata": {
    "colab_type": "text",
    "id": "9agw2EBoQgib"
   },
   "source": [
    "Types of arguments\n",
    "\n",
    "\n",
    "    1. Required arguments\n",
    "    2. Keyword arguments\n",
    "    3. Default arguments\n",
    "   "
   ]
  },
  {
   "cell_type": "raw",
   "metadata": {
    "colab_type": "text",
    "id": "VZ9GRyB3Qgic"
   },
   "source": [
    "1. Required arguments: \n",
    "Write a program to calculate Simple Interest which accepts three arguments and returns the simple interest accordingly"
   ]
  },
  {
   "cell_type": "code",
   "execution_count": 3,
   "metadata": {
    "colab": {},
    "colab_type": "code",
    "id": "lS3oIyt8Qgie"
   },
   "outputs": [
    {
     "name": "stdout",
     "output_type": "stream",
     "text": [
      "Calculated SI for p=8 r=6 t=8\n",
      "3.84\n"
     ]
    }
   ],
   "source": [
    "def calculateSI(principle,time,rateofinterest):\n",
    "      si = (principle * time *rateofinterest)/100\n",
    "      return si\n",
    "\n",
    "#Tests\n",
    "print(\"Calculated SI for p=8 r=6 t=8\")\n",
    "print(calculateSI(8,6,8))"
   ]
  },
  {
   "cell_type": "raw",
   "metadata": {
    "colab_type": "text",
    "id": "xbotxe88Qgig"
   },
   "source": [
    "2.Keyword arguments:\n",
    "Write a function which will be called with the name and message as the keyword arguments. Output will be \"printing the message with 'name' and  'message'\""
   ]
  },
  {
   "cell_type": "code",
   "execution_count": null,
   "metadata": {
    "colab": {},
    "colab_type": "code",
    "id": "vXrs1SGPQgih"
   },
   "outputs": [],
   "source": [
    "def displayDetails(name,message):\n",
    "    print(\"printing the message with \"+ name +\" and \" + message )\n",
    "\n",
    "displayDetails(name=\"Master Jim\", message = \"Lets go to kilhead bridge\")"
   ]
  },
  {
   "cell_type": "raw",
   "metadata": {
    "colab_type": "text",
    "id": "_LcvVsPrQgim"
   },
   "source": [
    "3.Default Arguments:\n",
    "Write a function which will be called with the name as keyword argument and age as the default arguments. Output will be \"My name is 'name' and 'age is 27'\""
   ]
  },
  {
   "cell_type": "code",
   "execution_count": null,
   "metadata": {
    "colab": {},
    "colab_type": "code",
    "id": "FyHnBEofQgim"
   },
   "outputs": [],
   "source": [
    "def displayDetails(name,age=23):\n",
    "    print(\"My name is \"+ name +\" and age is \" + str(age) )\n",
    "\n",
    "displayDetails(name=\"Master Jim\",age =21)\n",
    "displayDetails(name=\"Master Toby\")"
   ]
  },
  {
   "cell_type": "markdown",
   "metadata": {
    "colab_type": "text",
    "id": "vlbfErrdQgip"
   },
   "source": [
    "### lambda function"
   ]
  },
  {
   "cell_type": "code",
   "execution_count": null,
   "metadata": {
    "colab": {},
    "colab_type": "code",
    "id": "cXDL9-AdQgiq"
   },
   "outputs": [],
   "source": []
  },
  {
   "cell_type": "raw",
   "metadata": {
    "colab_type": "text",
    "id": "LfFUwKixQgi1"
   },
   "source": [
    "1. Get a number from user,  find if it is even or odd number?"
   ]
  },
  {
   "cell_type": "code",
   "execution_count": null,
   "metadata": {
    "colab": {},
    "colab_type": "code",
    "id": "s8HgnLo6Qgi1"
   },
   "outputs": [],
   "source": [
    "n=int(input(\"Enter a numner\"))\n",
    "odd_even=lambda n:\"Even number\" if(n%2==0) else \"Odd number\"\n",
    "print(odd_even(n))"
   ]
  },
  {
   "cell_type": "raw",
   "metadata": {
    "colab_type": "text",
    "id": "NBvh7UY8Qgi4"
   },
   "source": [
    "2. Take a input from user and  square it"
   ]
  },
  {
   "cell_type": "code",
   "execution_count": null,
   "metadata": {
    "colab": {},
    "colab_type": "code",
    "id": "xUG47hOsQgi5"
   },
   "outputs": [],
   "source": [
    "n=int(input(\"Enter a numner \"))\n",
    "square_num=lambda n:  n*n\n",
    "print(square_num(n))"
   ]
  },
  {
   "cell_type": "raw",
   "metadata": {
    "colab_type": "text",
    "id": "ht5XKfNXQgi8"
   },
   "source": [
    "3. Write a lambda function using logical operators?\n"
   ]
  },
  {
   "cell_type": "raw",
   "metadata": {
    "colab_type": "raw",
    "id": "va_12U9vUKeX"
   },
   "source": [
    "Hint:\n",
    "Check x < 10\n",
    "Output: False / True"
   ]
  },
  {
   "cell_type": "code",
   "execution_count": null,
   "metadata": {
    "colab": {},
    "colab_type": "code",
    "id": "wjYpySTcQgi9"
   },
   "outputs": [],
   "source": [
    "n=int(input(\"Enter a number \"))\n",
    "compare_num = lambda numx: True if(numx>10) else False\n",
    "print(compare_num(n))"
   ]
  },
  {
   "cell_type": "raw",
   "metadata": {
    "colab_type": "text",
    "id": "OkNj5AiXQgjA"
   },
   "source": [
    "4. Take an integer input from the user,  add 5 to the number and print it back?"
   ]
  },
  {
   "cell_type": "code",
   "execution_count": null,
   "metadata": {
    "colab": {},
    "colab_type": "code",
    "id": "1PIvlyTdQgjB"
   },
   "outputs": [],
   "source": [
    "n=int(input(\"Enter a number \"))\n",
    "add_num = lambda numx: numx+5\n",
    "newnum = add_num(n)\n",
    "print(newnum)"
   ]
  },
  {
   "cell_type": "code",
   "execution_count": null,
   "metadata": {
    "colab_type": "text",
    "id": "OujnXYLsQgjD"
   },
   "outputs": [],
   "source": [
    "### Map"
   ]
  },
  {
   "cell_type": "raw",
   "metadata": {
    "colab_type": "text",
    "id": "KaskbPD5QgjH"
   },
   "source": [
    "1. Add two lists using map ()\n",
    "     lis1 = [12, 24, 36] \n",
    "     lis2 = [41, 54, 69] \n",
    "     \n",
    "     Output:\n",
    "     [53, 78, 105]"
   ]
  },
  {
   "cell_type": "code",
   "execution_count": null,
   "metadata": {
    "colab": {},
    "colab_type": "code",
    "id": "0Zze5CElQgjI"
   },
   "outputs": [],
   "source": [
    "def myfunc(a, b):\n",
    "  return a + b\n",
    "\n",
    "lis1 = [12, 24, 36] \n",
    "lis2 = [41, 54, 69] \n",
    "x = map(myfunc, lis1,lis2)\n",
    "for elem in x:\n",
    "    print(elem)"
   ]
  },
  {
   "cell_type": "raw",
   "metadata": {
    "colab_type": "text",
    "id": "WR4oaWUFQgjL"
   },
   "source": [
    "2. Use Lambda and map functions on a List, to square each element in the list = [1, 2, 3, 4, 5, 6, 7]"
   ]
  },
  {
   "cell_type": "code",
   "execution_count": null,
   "metadata": {
    "colab": {},
    "colab_type": "code",
    "id": "VySlMocZQgjM"
   },
   "outputs": [],
   "source": [
    "list = [1, 2, 3, 4, 5, 6, 7]\n",
    "\n",
    "squares = map(lambda x:x*x,list)\n",
    "for elem in squares:\n",
    "    print(elem)"
   ]
  },
  {
   "cell_type": "raw",
   "metadata": {
    "colab_type": "text",
    "id": "F4UwyBbzQgjQ"
   },
   "source": [
    "3.In the given list [1, 2, 3, 4, 5, 6, 7], find the even and odd elements in the list, use the map()function"
   ]
  },
  {
   "cell_type": "code",
   "execution_count": null,
   "metadata": {
    "colab": {},
    "colab_type": "code",
    "id": "VwpRnZmyQgjR"
   },
   "outputs": [],
   "source": [
    "list = [1, 2, 3, 4, 5, 6, 7]\n",
    "\n",
    "#Return tuple after checking the type of the number\n",
    "odd_even = map(lambda x:(x,\"Even number\") if (x%2==0) else (x,\"Odd number\"),list)\n",
    "for item in odd_even:\n",
    "    print(item)\n"
   ]
  },
  {
   "cell_type": "raw",
   "metadata": {
    "colab_type": "text",
    "id": "3sPPwRkMQgjU"
   },
   "source": [
    "4. In the given list [11, 12, 13, 14, 435, 6, 27], perform the Floor division using 7 on each elements on the list"
   ]
  },
  {
   "cell_type": "code",
   "execution_count": 2,
   "metadata": {
    "colab": {},
    "colab_type": "code",
    "id": "x-oTxbRNQgjV"
   },
   "outputs": [
    {
     "name": "stdout",
     "output_type": "stream",
     "text": [
      "[1, 1, 1, 2, 62, 0, 3]\n"
     ]
    }
   ],
   "source": [
    "list2 = [11, 12, 13, 14, 435, 6, 27]\n",
    "divided_7 = list(map(lambda x: x//7,list2))\n",
    "print(divided_7)\n",
    "\n",
    "\n",
    "\n"
   ]
  },
  {
   "cell_type": "markdown",
   "metadata": {
    "colab_type": "text",
    "id": "u5734lwxQgjX"
   },
   "source": [
    "### Filter"
   ]
  },
  {
   "cell_type": "code",
   "execution_count": null,
   "metadata": {
    "colab": {},
    "colab_type": "code",
    "id": "ie4jXCpEQgjY"
   },
   "outputs": [],
   "source": []
  },
  {
   "cell_type": "raw",
   "metadata": {
    "colab_type": "text",
    "id": "WSodeSmEQgja"
   },
   "source": [
    "1.Using the given list lis1 = [3,12, 24, 36,43,654,65432,2,654,455,43,543] filter the numbers in list which are not divisible by 2"
   ]
  },
  {
   "cell_type": "code",
   "execution_count": 6,
   "metadata": {
    "colab": {},
    "colab_type": "code",
    "id": "T-4yE3BsQgja"
   },
   "outputs": [
    {
     "name": "stdout",
     "output_type": "stream",
     "text": [
      "[3, 43, 455, 43, 543]\n"
     ]
    }
   ],
   "source": [
    "lis1 = [3,12, 24, 36,43,654,65432,2,654,455,43,543]\n",
    "\n",
    "def not_div_by_2(number):\n",
    "    if(number%2 !=0):\n",
    "        return True\n",
    "    else:\n",
    "        return False\n",
    "\n",
    "an_iterator = filter(not_div_by_2, lis1)\n",
    "\n",
    "filtered_numbers = list(an_iterator)\n",
    "\n",
    "print(filtered_numbers)"
   ]
  },
  {
   "cell_type": "raw",
   "metadata": {
    "colab_type": "text",
    "id": "FuKAfu6XQgjj"
   },
   "source": [
    "2. For a given list = [2,3,5,3,6,3,7,4,6,7] filter only the even numbers using user defined function.\n"
   ]
  },
  {
   "cell_type": "code",
   "execution_count": 8,
   "metadata": {
    "colab": {},
    "colab_type": "code",
    "id": "Fw7TeM4RQgjk"
   },
   "outputs": [
    {
     "name": "stdout",
     "output_type": "stream",
     "text": [
      "[2, 6, 4, 6]\n"
     ]
    }
   ],
   "source": [
    "lis1 = [2,3,5,3,6,3,7,4,6,7]\n",
    "\n",
    "def not_div_by_2(number):\n",
    "    if(number%2 ==0):\n",
    "        return True\n",
    "    else:\n",
    "        return False\n",
    "\n",
    "an_iterator = filter(not_div_by_2, lis1)\n",
    "\n",
    "filtered_numbers = list(an_iterator)\n",
    "\n",
    "print(filtered_numbers)"
   ]
  },
  {
   "cell_type": "markdown",
   "metadata": {
    "colab_type": "text",
    "id": "CCHzjGMAQgjt"
   },
   "source": [
    "### Reduce"
   ]
  },
  {
   "cell_type": "raw",
   "metadata": {
    "colab_type": "text",
    "id": "UuqCl94bQgjx"
   },
   "source": [
    "1.For list = [1, 2, 3, 4] multiply all the elements (use reduce function)"
   ]
  },
  {
   "cell_type": "code",
   "execution_count": 10,
   "metadata": {
    "colab": {},
    "colab_type": "code",
    "id": "kEz0P23ZQgj2"
   },
   "outputs": [
    {
     "name": "stdout",
     "output_type": "stream",
     "text": [
      "24\n"
     ]
    }
   ],
   "source": [
    "from functools import reduce\n",
    "lis1 = [1, 2, 3, 4]\n",
    "output = reduce(lambda x,y: x*y,lis1)\n",
    "print(output)"
   ]
  },
  {
   "cell_type": "code",
   "execution_count": null,
   "metadata": {},
   "outputs": [],
   "source": []
  }
 ],
 "metadata": {
  "colab": {
   "name": "Inclass-day4-Questions-Bug_Free.ipynb",
   "provenance": []
  },
  "kernelspec": {
   "display_name": "Python 3",
   "language": "python",
   "name": "python3"
  },
  "language_info": {
   "codemirror_mode": {
    "name": "ipython",
    "version": 3
   },
   "file_extension": ".py",
   "mimetype": "text/x-python",
   "name": "python",
   "nbconvert_exporter": "python",
   "pygments_lexer": "ipython3",
   "version": "3.7.6"
  }
 },
 "nbformat": 4,
 "nbformat_minor": 1
}
