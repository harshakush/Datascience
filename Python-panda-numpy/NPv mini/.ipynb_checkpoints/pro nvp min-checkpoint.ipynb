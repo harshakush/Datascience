{
 "cells": [
  {
   "cell_type": "code",
   "execution_count": 11,
   "metadata": {},
   "outputs": [
    {
     "data": {
      "text/plain": [
       "False"
      ]
     },
     "execution_count": 11,
     "metadata": {},
     "output_type": "execute_result"
    }
   ],
   "source": [
    "import numpy as np\n",
    "import pandas as pd\n",
    "import seaborn as sns \n",
    "import matplotlib.pyplot as plt \n",
    "import plotly.express as px\n",
    "\n",
    "df1 = pd.read_csv('car-mpg.csv')\n",
    "df1\n",
    "\n",
    "#Data needs to be cleaned, ? will be replaced with the NAN\n",
    "df1.replace(to_replace='?',value=np.NAN, inplace=True)\n",
    "#Lets not delete all the rows containing the NA values, for some cars the variable may not be needed.\n",
    "dfd1 = df1.dropna()\n",
    "#pd.concat([df1], axis=1).drop_duplicates()\n",
    "df1.columns\n",
    "# replaceing of the names\n",
    "new_names =  {'mpg': 'MilagePerGallon',\n",
    "               'cyl': 'Cylinder',\n",
    "               'disp': 'Display',\n",
    "                'hp': 'HorsePower',\n",
    "               'wt': 'Weight',\n",
    "               'acc': 'Acceleration',\n",
    "               'yr': 'Year',\n",
    "               'origin': 'CarOrigin',\n",
    "               'car_name': 'CarName'}\n",
    "\n",
    "df1.rename(columns=new_names, inplace=True)\n",
    "df1.head()\n",
    "df1.columns\n",
    "df1['CarName'].is_unique\n"
   ]
  },
  {
   "cell_type": "code",
   "execution_count": 15,
   "metadata": {},
   "outputs": [
    {
     "data": {
      "text/plain": [
       "<matplotlib.axes._subplots.AxesSubplot at 0x1a1a4dd3d0>"
      ]
     },
     "execution_count": 15,
     "metadata": {},
     "output_type": "execute_result"
    },
    {
     "data": {
      "image/png": "[encoded data removed]",
      "text/plain": [
       "<Figure size 432x288 with 1 Axes>"
      ]
     },
     "metadata": {},
     "output_type": "display_data"
    }
   ],
   "source": [
    "sns.set_style('whitegrid')\n",
    "sns.set()\n",
    "sns.scatterplot(x=df1.Weight,y=df1.HorsePower)\n",
    "#sns.stripplot(x=dfd1.Weight,y=df1.HorsePower)\n",
    "#sns.stripplot(x=dfd1.Weight,y=dfd1.HorsePower)\n",
    "sns.scatterplot(x=df1.HorsePower,y=df1.Weight)"
   ]
  },
  {
   "cell_type": "code",
   "execution_count": null,
   "metadata": {},
   "outputs": [],
   "source": [
    "dfd1.plot(kind='bar', rot = 0)\n",
    "dfd1.Horse_Power.value_counts().plot(kind='bar', rot = 0)\n",
    "plt.show()"
   ]
  },
  {
   "cell_type": "code",
   "execution_count": null,
   "metadata": {},
   "outputs": [],
   "source": []
  },
  {
   "cell_type": "code",
   "execution_count": null,
   "metadata": {},
   "outputs": [],
   "source": [
    "\n"
   ]
  },
  {
   "cell_type": "code",
   "execution_count": null,
   "metadata": {},
   "outputs": [],
   "source": []
  },
  {
   "cell_type": "code",
   "execution_count": null,
   "metadata": {},
   "outputs": [],
   "source": []
  },
  {
   "cell_type": "code",
   "execution_count": null,
   "metadata": {},
   "outputs": [],
   "source": []
  },
  {
   "cell_type": "code",
   "execution_count": null,
   "metadata": {},
   "outputs": [],
   "source": [
    "# plot a boxplot of total bill\n",
    "plt.boxplot(dfd1['Milage_per_gallon'])\n",
    "\n",
    "# add labels for five number summary using text()\n",
    "# x is location on x-axis\n",
    "# y is the location on y-axis\n",
    "# s is the text \n",
    "plt.text(x = 1.1, y = dfd1['Milage_per_gallon'].min(), s ='min')              # for minimun\n",
    "plt.text(x = 1.1, y = dfd1.Milage_per_gallon.quantile(0.25), s ='Q1')         # for quartile 1\n",
    "plt.text(x = 1.1, y = dfd1['Milage_per_gallon'].median(), s ='median (Q2)')   # for quartile 2\n",
    "plt.text(x = 1.1, y = dfd1.Milage_per_gallon.quantile(0.75), s ='Q3')         # for quartile 3\n",
    "plt.text(x = 1.1, y = dfd1['Milage_per_gallon'].max(), s ='max')              # for maximum\n",
    "\n",
    "\n",
    "# add the graph title \n",
    "plt.title('Barplot of Milage_per_gallon')\n",
    "\n",
    "# add the y-axis label\n",
    "plt.ylabel('Milage_per_gallon')\n",
    "\n",
    "# display the plot\n",
    "plt.show()\n",
    "fig = px.box(data_frame= dfd1, y=\"Milage_per_gallon\")\n",
    "fig.show()"
   ]
  },
  {
   "cell_type": "code",
   "execution_count": null,
   "metadata": {},
   "outputs": [],
   "source": [
    "set(dfd1['Car_origin'])\n",
    "dfd1.Car_origin.value_counts().plot(kind='bar', rot = 3)\n",
    "\n",
    "# display the plot\n",
    "plt.show()"
   ]
  },
  {
   "cell_type": "code",
   "execution_count": null,
   "metadata": {},
   "outputs": [],
   "source": [
    "p=dfd1['Milage_per_gallon'].max()\n",
    "q=dfd1['Milage_per_gallon'].min()\n",
    "print(p)\n",
    "print(q)"
   ]
  },
  {
   "cell_type": "code",
   "execution_count": null,
   "metadata": {},
   "outputs": [],
   "source": [
    "sns.distplot(dfd1['Car_origin'])\n",
    "plt.show()"
   ]
  },
  {
   "cell_type": "code",
   "execution_count": null,
   "metadata": {},
   "outputs": [],
   "source": [
    "sns.countplot(data = dfd1, x = 'Milage_per_gallon', hue = 'Car_origin')\n",
    "plt.figure(figsize=(15,8))\n",
    "plt.show()"
   ]
  },
  {
   "cell_type": "code",
   "execution_count": null,
   "metadata": {},
   "outputs": [],
   "source": [
    "fig = px.histogram(data_frame= dfd1, y=\"Milage_per_gallon\")\n",
    "fig.show()"
   ]
  },
  {
   "cell_type": "code",
   "execution_count": null,
   "metadata": {},
   "outputs": [],
   "source": [
    "# graph for findig max, min, median weights of car from the given data set."
   ]
  },
  {
   "cell_type": "code",
   "execution_count": null,
   "metadata": {},
   "outputs": [],
   "source": [
    "# plot a boxplot of total bill\n",
    "plt.boxplot(dfd1['Weight'])\n",
    "\n",
    "# add labels for five number summary using text()\n",
    "# x is location on x-axis\n",
    "# y is the location on y-axis\n",
    "# s is the text \n",
    "plt.text(x = 1.1, y = dfd1['Weight'].min(), s ='min')              # for minimun\n",
    "plt.text(x = 1.1, y = dfd1.Weight.quantile(0.25), s ='Q1')         # for quartile 1\n",
    "plt.text(x = 1.1, y = dfd1['Weight'].median(), s ='median (Q2)')   # for quartile 2\n",
    "plt.text(x = 1.1, y = dfd1.Weight.quantile(0.75), s ='Q3')         # for quartile 3\n",
    "plt.text(x = 1.1, y = dfd1['Weight'].max(), s ='max')              # for maximum\n",
    "\n",
    "\n",
    "# add the graph title \n",
    "plt.title('Barplot of Weight')\n",
    "\n",
    "# add the y-axis label\n",
    "plt.ylabel('Weight')\n",
    "\n",
    "# display the plot\n",
    "plt.show()\n",
    "fig = px.box(data_frame= dfd1, y=\"Weight\")\n",
    "fig.show()"
   ]
  },
  {
   "cell_type": "code",
   "execution_count": null,
   "metadata": {},
   "outputs": [],
   "source": [
    "#Scatter plot graph between Horse_Power and Display "
   ]
  },
  {
   "cell_type": "code",
   "execution_count": null,
   "metadata": {},
   "outputs": [],
   "source": [
    "# data\n",
    "# let X be the column of total bill\n",
    "X = dfd1['Horse_Power']\n",
    "# let Y be the column of the tip collected\n",
    "Y = dfd1['Display']\n",
    "\n",
    "# set the plot size\n",
    "plt.figure(figsize=(15,8))\n",
    "\n",
    "# plot the scatter plot\n",
    "# s is for shape, c is for colour, alpha is for opacity (0 < alpha < 1)\n",
    "plt.scatter(X, Y,c= 'green', alpha= 0.8)\n",
    "\n",
    "# add title \n",
    "plt.title('Scatter Plot')\n",
    "\n",
    "# add the axes labels to the plot\n",
    "plt.xlabel('Horse_Power')\n",
    "plt.ylabel('Display')\n",
    "\n",
    "# display the plot\n",
    "plt.show()\n",
    "fig = px.scatter(data_frame= dfd1, x= \"Horse_Power\", y=\"Display\")\n",
    "fig.show()"
   ]
  },
  {
   "cell_type": "code",
   "execution_count": null,
   "metadata": {},
   "outputs": [],
   "source": [
    "# pie plot\n",
    "# 'autopct' displays the percentage upto 1 decimal place\n",
    "# 'radius' sets the radius of the pie plot\n",
    "# 'labels' are the labels given to each section \n",
    "plt.pie(df1.Car_origin.value_counts(), autopct = '%.1f%%', radius = 1.2, labels = ['1','2','3'])\n",
    "\n",
    "# add a circle at the center\n",
    "\n",
    "circle =  plt.Circle( (0,0), radius = 0.5, color='white')\n",
    "plot = plt.gcf()\n",
    "plot.gca().add_artist(circle)\n",
    " \n",
    "# display the plot\n",
    "plt.show()"
   ]
  },
  {
   "cell_type": "code",
   "execution_count": null,
   "metadata": {},
   "outputs": [],
   "source": [
    "#Scatter plot graph between Acceleration and Weight"
   ]
  },
  {
   "cell_type": "code",
   "execution_count": null,
   "metadata": {},
   "outputs": [],
   "source": [
    "# data\n",
    "# let X be the column of total bill\n",
    "X = dfd1['Acceleration']\n",
    "# let Y be the column of the tip collected\n",
    "Y = dfd1['Weight']\n",
    "\n",
    "# set the plot size\n",
    "plt.figure(figsize=(15,8))\n",
    "\n",
    "# plot the scatter plot\n",
    "# s is for shape, c is for colour, alpha is for opacity (0 < alpha < 1)\n",
    "plt.scatter(X, Y,c= 'green', alpha= 0.8)\n",
    "\n",
    "# add title \n",
    "plt.title('Scatter Plot')\n",
    "\n",
    "# add the axes labels to the plot\n",
    "plt.xlabel('Acceleration')\n",
    "plt.ylabel('Weight')\n",
    "\n",
    "# display the plot\n",
    "plt.show()\n",
    "fig = px.scatter(data_frame= dfd1, x= \"Acceleration\", y=\"Weight\")\n",
    "fig.show()"
   ]
  },
  {
   "cell_type": "code",
   "execution_count": null,
   "metadata": {},
   "outputs": [],
   "source": [
    "#Scatter plot graph between Milage_per_gallon and Cylinder\n",
    "# by this we can see which car takes "
   ]
  },
  {
   "cell_type": "code",
   "execution_count": null,
   "metadata": {},
   "outputs": [],
   "source": [
    "# data\n",
    "# let X be the column of total bill\n",
    "X = dfd1['Milage_per_gallon']\n",
    "# let Y be the column of the tip collected\n",
    "Y = dfd1['Cylinder']\n",
    "\n",
    "# set the plot size\n",
    "plt.figure(figsize=(15,8))\n",
    "\n",
    "# plot the scatter plot\n",
    "# s is for shape, c is for colour, alpha is for opacity (0 < alpha < 1)\n",
    "plt.scatter(X, Y,c= 'green', alpha= 0.8)\n",
    "\n",
    "# add title \n",
    "plt.title('Scatter Plot')\n",
    "\n",
    "# add the axes labels to the plot\n",
    "plt.xlabel('Milage_per_gallon')\n",
    "plt.ylabel('Cylinder')\n",
    "\n",
    "# display the plot\n",
    "plt.show()\n",
    "fig = px.scatter(data_frame= dfd1, x= \"Milage_per_gallon\", y=\"Cylinder\")\n",
    "fig.show()"
   ]
  },
  {
   "cell_type": "markdown",
   "metadata": {},
   "source": [
    "Car data sets\n",
    "\n",
    "Segments\n",
    "\n",
    "1 Sports car\n",
    "Requirements :\n",
    "Hp - max\n",
    "Cyl - max\n",
    "Wt - min\n",
    "Mpg - min\n",
    "\n",
    "2 commercial vehicle 2 types\n",
    "\n",
    "Type 1 (Cyl - 8)\n",
    "Requirements:\n",
    "Hp - max\n",
    "Wt - min\n",
    "Mpg - min\n",
    "\n",
    "\n",
    "Type 2 (Cyl - 4)\n",
    "Hp - max\n",
    "Wt - min\n",
    "Mpg - min\n",
    "\n",
    "\n",
    "3 economical vehicle\n",
    "Hp - medium\n",
    "Cyl - \n",
    "Wt - medium\n",
    "Mpg - max"
   ]
  },
  {
   "cell_type": "code",
   "execution_count": null,
   "metadata": {},
   "outputs": [],
   "source": []
  },
  {
   "cell_type": "code",
   "execution_count": null,
   "metadata": {},
   "outputs": [],
   "source": []
  },
  {
   "cell_type": "code",
   "execution_count": null,
   "metadata": {},
   "outputs": [],
   "source": []
  }
 ],
 "metadata": {
  "kernelspec": {
   "display_name": "Python 3",
   "language": "python",
   "name": "python3"
  },
  "language_info": {
   "codemirror_mode": {
    "name": "ipython",
    "version": 3
   },
   "file_extension": ".py",
   "mimetype": "text/x-python",
   "name": "python",
   "nbconvert_exporter": "python",
   "pygments_lexer": "ipython3",
   "version": "3.7.6"
  }
 },
 "nbformat": 4,
 "nbformat_minor": 2
}
